{
 "cells": [
  {
   "cell_type": "code",
   "execution_count": 24,
   "id": "b2b543e5",
   "metadata": {},
   "outputs": [],
   "source": [
    "import os\n"
   ]
  },
  {
   "cell_type": "code",
   "execution_count": 25,
   "id": "32a9e141",
   "metadata": {},
   "outputs": [],
   "source": [
    "directory = 'NLP'\n",
    "filename = 'cities.txt'"
   ]
  },
  {
   "cell_type": "code",
   "execution_count": 26,
   "id": "6a8075f3",
   "metadata": {},
   "outputs": [],
   "source": [
    "l = [] \n",
    "\n",
    "with open(filename, 'r') as f:\n",
    "    l = f.read().lower().split('\\n')\n"
   ]
  },
  {
   "cell_type": "code",
   "execution_count": 27,
   "id": "3c618ca1",
   "metadata": {},
   "outputs": [],
   "source": [
    "def editDistance(source, target):\n",
    "    slen = len(source)\n",
    "    tlen = len(target)\n",
    "    \n",
    "    D = []\n",
    "    for i in range(slen + 1):\n",
    "        tmp = []\n",
    "        for j in range(tlen + 1):\n",
    "            tmp.append(0)\n",
    "        D.append(tmp)\n",
    "        \n",
    "    for i in range(1, slen + 1):\n",
    "        D[i][0] = D[i-1][0] + 1\n",
    "    for j in range(1, tlen + 1):\n",
    "        D[0][j] = D[0][j-1] + 1\n",
    "        \n",
    "    for i in range(1, slen + 1):\n",
    "        for j in range(1, tlen + 1):\n",
    "            if source[i-1] == target[j-1]:\n",
    "                D[i][j] = D[i-1][j-1]\n",
    "            else:\n",
    "                D[i][j] = min(D[i-1][j] + 1,\n",
    "                D[i][j-1] + 1,\n",
    "                D[i-1][j-1] + 2)\n",
    "    return D[slen][tlen]"
   ]
  },
  {
   "cell_type": "code",
   "execution_count": null,
   "id": "924be6b5",
   "metadata": {},
   "outputs": [],
   "source": [
    "\n"
   ]
  },
  {
   "cell_type": "code",
   "execution_count": 31,
   "id": "916e06ac",
   "metadata": {},
   "outputs": [],
   "source": [
    "def search(city):\n",
    "    distances=[]\n",
    "    if city not in l:\n",
    "        for i in l:\n",
    "            x=editDistance(city, i)\n",
    "            distances.append(x)\n",
    "    else:\n",
    "        pass\n",
    "    \n",
    "    index=distances.index(min(distances))\n",
    "    \n",
    "    return l[index]"
   ]
  },
  {
   "cell_type": "code",
   "execution_count": 34,
   "id": "bd5f6de7",
   "metadata": {},
   "outputs": [
    {
     "name": "stdout",
     "output_type": "stream",
     "text": [
      "enter the city: karachi\n",
      "city karachi Found:\n"
     ]
    }
   ],
   "source": [
    "x=input(\"enter the city: \")\n",
    "try:\n",
    "    if search(x):\n",
    "        print(\"you mean:\",search(x))\n",
    "except ValueError: \n",
    "    print(\"city \"+x+\" Found:\" )\n",
    "\n"
   ]
  },
  {
   "cell_type": "code",
   "execution_count": null,
   "id": "78a7da6e",
   "metadata": {},
   "outputs": [],
   "source": []
  },
  {
   "cell_type": "code",
   "execution_count": null,
   "id": "da0581ea",
   "metadata": {},
   "outputs": [],
   "source": []
  },
  {
   "cell_type": "code",
   "execution_count": null,
   "id": "e7b64f9c",
   "metadata": {},
   "outputs": [],
   "source": []
  }
 ],
 "metadata": {
  "kernelspec": {
   "display_name": "Python 3",
   "language": "python",
   "name": "python3"
  },
  "language_info": {
   "codemirror_mode": {
    "name": "ipython",
    "version": 3
   },
   "file_extension": ".py",
   "mimetype": "text/x-python",
   "name": "python",
   "nbconvert_exporter": "python",
   "pygments_lexer": "ipython3",
   "version": "3.8.8"
  }
 },
 "nbformat": 4,
 "nbformat_minor": 5
}
