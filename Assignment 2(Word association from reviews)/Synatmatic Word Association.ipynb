{
 "cells": [
  {
   "cell_type": "code",
   "execution_count": 752,
   "id": "5414d5a8",
   "metadata": {},
   "outputs": [],
   "source": [
    "import numpy as np\n",
    "import pandas as pd\n",
    "from sklearn.metrics import mutual_info_score\n"
   ]
  },
  {
   "cell_type": "code",
   "execution_count": 753,
   "id": "282a4eff",
   "metadata": {},
   "outputs": [],
   "source": [
    "data = open('reviews.txt').read() # getting the file after converting it into .txt"
   ]
  },
  {
   "cell_type": "code",
   "execution_count": 754,
   "id": "31855a4a",
   "metadata": {},
   "outputs": [],
   "source": [
    "data=data.split('\\n') #splitting libe by line and converting into list"
   ]
  },
  {
   "cell_type": "code",
   "execution_count": 755,
   "id": "a25ba5ff",
   "metadata": {},
   "outputs": [],
   "source": [
    "x=[]\n",
    "for i in range(len(data)):     #this block is stripiing(white spaces) the data into and putting it into new list\n",
    "    x.append(data[i].rstrip())"
   ]
  },
  {
   "cell_type": "code",
   "execution_count": 756,
   "id": "0baa5675",
   "metadata": {},
   "outputs": [],
   "source": [
    "from sklearn.feature_extraction.text import CountVectorizer #library"
   ]
  },
  {
   "cell_type": "code",
   "execution_count": 757,
   "id": "90c8324c",
   "metadata": {},
   "outputs": [],
   "source": [
    "vec = CountVectorizer(max_features = 15, stop_words='english') #setting max features and avoiding stop words"
   ]
  },
  {
   "cell_type": "code",
   "execution_count": 758,
   "id": "103d22c9",
   "metadata": {},
   "outputs": [],
   "source": [
    "matrix = vec.fit_transform(x) #tranforming the data into vetor form"
   ]
  },
  {
   "cell_type": "code",
   "execution_count": 759,
   "id": "e72f555a",
   "metadata": {},
   "outputs": [],
   "source": [
    "matrix1=matrix.toarray() #convrting to array"
   ]
  },
  {
   "cell_type": "code",
   "execution_count": 760,
   "id": "6e4ba099",
   "metadata": {},
   "outputs": [
    {
     "data": {
      "text/plain": [
       "array([[0, 0, 0, ..., 0, 0, 0],\n",
       "       [0, 0, 0, ..., 0, 0, 0],\n",
       "       [0, 0, 0, ..., 0, 0, 0],\n",
       "       ...,\n",
       "       [0, 0, 0, ..., 0, 1, 0],\n",
       "       [0, 0, 1, ..., 0, 0, 0],\n",
       "       [0, 0, 0, ..., 0, 0, 0]], dtype=int64)"
      ]
     },
     "execution_count": 760,
     "metadata": {},
     "output_type": "execute_result"
    }
   ],
   "source": [
    "matrix1"
   ]
  },
  {
   "cell_type": "code",
   "execution_count": 761,
   "id": "1410c8a1",
   "metadata": {},
   "outputs": [
    {
     "data": {
      "text/plain": [
       "{'staff': 10,\n",
       " 'food': 4,\n",
       " 'hotel': 6,\n",
       " 'great': 5,\n",
       " 'place': 8,\n",
       " 'nice': 7,\n",
       " 'stay': 11,\n",
       " 'experience': 3,\n",
       " 'wonderful': 14,\n",
       " 'room': 9,\n",
       " 'come': 2,\n",
       " 'amazing': 0,\n",
       " 'thank': 12,\n",
       " 'beautiful': 1,\n",
       " 'time': 13}"
      ]
     },
     "execution_count": 761,
     "metadata": {},
     "output_type": "execute_result"
    }
   ],
   "source": [
    "vec.vocabulary_  # geeting the vocablury frequency after setting the max feature=15"
   ]
  },
  {
   "cell_type": "code",
   "execution_count": 762,
   "id": "f64fdc61",
   "metadata": {},
   "outputs": [
    {
     "data": {
      "text/plain": [
       "15"
      ]
     },
     "execution_count": 762,
     "metadata": {},
     "output_type": "execute_result"
    }
   ],
   "source": [
    "len(vec.vocabulary_)"
   ]
  },
  {
   "cell_type": "code",
   "execution_count": 763,
   "id": "c560118c",
   "metadata": {},
   "outputs": [],
   "source": [
    "from sklearn.feature_extraction.text import TfidfVectorizer #library"
   ]
  },
  {
   "cell_type": "code",
   "execution_count": 764,
   "id": "54920f6e",
   "metadata": {},
   "outputs": [],
   "source": [
    "#tfidf = TfidfVectorizer()"
   ]
  },
  {
   "cell_type": "code",
   "execution_count": 765,
   "id": "73ef0047",
   "metadata": {},
   "outputs": [],
   "source": [
    "#matrix2 = tfidf.fit_transform(x)"
   ]
  },
  {
   "cell_type": "code",
   "execution_count": 766,
   "id": "a05ed57f",
   "metadata": {},
   "outputs": [],
   "source": [
    "#matrix2 = matrix2.toarray()"
   ]
  },
  {
   "cell_type": "code",
   "execution_count": 800,
   "id": "5d6beed4",
   "metadata": {},
   "outputs": [],
   "source": [
    "df = pd.DataFrame(matrix1) # convrting the array to pandas's dataframe\n",
    "#df"
   ]
  },
  {
   "cell_type": "code",
   "execution_count": 801,
   "id": "a403eac1",
   "metadata": {},
   "outputs": [],
   "source": [
    "# at this point we are findig the mutual information of every word with respect to every other word and storing the \n",
    "X = []\n",
    "for i in range(len(df.iloc[0])):\n",
    "    #print((datavec.iloc[0]))\n",
    "    for j in range(i+1, len(df.iloc[0])):\n",
    "        words = (i,j)\n",
    "        mi_score = mutual_info_score(df[i],df[j])\n",
    "        words_mi_socre = (words,mi_score)\n",
    "       # print(words_mi_socre)\n",
    "        X.append(words_mi_socre)"
   ]
  },
  {
   "cell_type": "code",
   "execution_count": 802,
   "id": "ed49441a",
   "metadata": {},
   "outputs": [],
   "source": [
    "MI_scores = [] #stroing the word_MI_scores in other list\n",
    "for i in X:MI_scores.append(i[1])"
   ]
  },
  {
   "cell_type": "code",
   "execution_count": 803,
   "id": "9dcc84f8",
   "metadata": {},
   "outputs": [],
   "source": [
    "#MI_scores"
   ]
  },
  {
   "cell_type": "code",
   "execution_count": 804,
   "id": "cbdff81e",
   "metadata": {},
   "outputs": [],
   "source": [
    "Y = np.argsort(MI_scores, axis = 0) #sorting the data in ascending order to getvalues in order\n"
   ]
  },
  {
   "cell_type": "code",
   "execution_count": 805,
   "id": "7cc8d270",
   "metadata": {},
   "outputs": [],
   "source": [
    "high_MI_score = []"
   ]
  },
  {
   "cell_type": "code",
   "execution_count": 806,
   "id": "84f694cf",
   "metadata": {},
   "outputs": [],
   "source": [
    "for x in range(1,len(X)): #Creates a sorted list of Words pairs and scores in descending order\n",
    "    num = -x\n",
    "    high_MI_score.append(X[Y[num]])"
   ]
  },
  {
   "cell_type": "code",
   "execution_count": 807,
   "id": "fa59bc19",
   "metadata": {},
   "outputs": [
    {
     "name": "stdout",
     "output_type": "stream",
     "text": [
      "Syntagmatic Pair 1\n",
      "come place\n",
      "Syntagmatic Pair 2\n",
      "hotel room\n",
      "Syntagmatic Pair 3\n",
      "hotel place\n",
      "Syntagmatic Pair 4\n",
      "amazing food\n",
      "Syntagmatic Pair 5\n",
      "amazing place\n",
      "Syntagmatic Pair 6\n",
      "thank wonderful\n",
      "Syntagmatic Pair 7\n",
      "hotel staff\n",
      "Syntagmatic Pair 8\n",
      "stay thank\n",
      "Syntagmatic Pair 9\n",
      "food staff\n",
      "Syntagmatic Pair 10\n",
      "amazing room\n",
      "Syntagmatic Pair 11\n",
      "place thank\n",
      "Syntagmatic Pair 12\n",
      "amazing hotel\n",
      "Syntagmatic Pair 13\n",
      "come room\n",
      "Syntagmatic Pair 14\n",
      "beautiful place\n",
      "Syntagmatic Pair 15\n",
      "stay wonderful\n",
      "Syntagmatic Pair 16\n",
      "food room\n",
      "Syntagmatic Pair 17\n",
      "great hotel\n",
      "Syntagmatic Pair 18\n",
      "food place\n",
      "Syntagmatic Pair 19\n",
      "hotel stay\n",
      "Syntagmatic Pair 20\n",
      "experience stay\n",
      "Syntagmatic Pair 21\n",
      "experience hotel\n",
      "Syntagmatic Pair 22\n",
      "nice room\n",
      "Syntagmatic Pair 23\n",
      "staff thank\n",
      "Syntagmatic Pair 24\n",
      "amazing come\n",
      "Syntagmatic Pair 25\n",
      "room staff\n",
      "Syntagmatic Pair 26\n",
      "food nice\n",
      "Syntagmatic Pair 27\n",
      "hotel time\n",
      "Syntagmatic Pair 28\n",
      "amazing staff\n",
      "Syntagmatic Pair 29\n",
      "place wonderful\n",
      "Syntagmatic Pair 30\n",
      "food hotel\n",
      "Syntagmatic Pair 31\n",
      "food stay\n",
      "Syntagmatic Pair 32\n",
      "experience food\n",
      "Syntagmatic Pair 33\n",
      "hotel thank\n",
      "Syntagmatic Pair 34\n",
      "amazing experience\n",
      "Syntagmatic Pair 35\n",
      "experience nice\n",
      "Syntagmatic Pair 36\n",
      "staff wonderful\n",
      "Syntagmatic Pair 37\n",
      "hotel nice\n",
      "Syntagmatic Pair 38\n",
      "room wonderful\n",
      "Syntagmatic Pair 39\n",
      "come hotel\n",
      "Syntagmatic Pair 40\n",
      "experience room\n",
      "Syntagmatic Pair 41\n",
      "staff stay\n",
      "Syntagmatic Pair 42\n",
      "amazing thank\n",
      "Syntagmatic Pair 43\n",
      "experience staff\n",
      "Syntagmatic Pair 44\n",
      "place staff\n",
      "Syntagmatic Pair 45\n",
      "food thank\n",
      "Syntagmatic Pair 46\n",
      "beautiful nice\n",
      "Syntagmatic Pair 47\n",
      "food great\n",
      "Syntagmatic Pair 48\n",
      "beautiful thank\n",
      "Syntagmatic Pair 49\n",
      "room stay\n",
      "Syntagmatic Pair 50\n",
      "thank time\n"
     ]
    }
   ],
   "source": [
    "for x in range(50):\n",
    "    print(\"Syntagmatic Pair\",x+1)\n",
    "    print(vec.get_feature_names()[high_MI_score[x][0][0]],vec.get_feature_names()[high_MI_score[x][0][1]])"
   ]
  },
  {
   "cell_type": "code",
   "execution_count": null,
   "id": "4048de87",
   "metadata": {},
   "outputs": [],
   "source": []
  }
 ],
 "metadata": {
  "kernelspec": {
   "display_name": "Python 3",
   "language": "python",
   "name": "python3"
  },
  "language_info": {
   "codemirror_mode": {
    "name": "ipython",
    "version": 3
   },
   "file_extension": ".py",
   "mimetype": "text/x-python",
   "name": "python",
   "nbconvert_exporter": "python",
   "pygments_lexer": "ipython3",
   "version": "3.8.8"
  }
 },
 "nbformat": 4,
 "nbformat_minor": 5
}
