{
 "cells": [
  {
   "cell_type": "code",
   "execution_count": 22,
   "id": "1177dada",
   "metadata": {},
   "outputs": [],
   "source": [
    "import numpy as np\n",
    "import pandas as pd\n",
    "from sklearn.model_selection import train_test_split\n",
    "from sklearn.linear_model import SGDClassifier\n",
    "from sklearn.naive_bayes import GaussianNB\n",
    "from sklearn.tree import DecisionTreeClassifier\n",
    "from sklearn.neighbors import KNeighborsClassifier\n",
    "from sklearn.metrics import accuracy_score\n",
    "from sklearn.metrics import precision_score\n",
    "from sklearn.metrics import recall_score\n",
    "from sklearn.metrics import f1_score\n",
    "from sklearn.feature_extraction.text import TfidfVectorizer"
   ]
  },
  {
   "cell_type": "code",
   "execution_count": 23,
   "id": "1d1efd2b",
   "metadata": {},
   "outputs": [],
   "source": [
    "corpus = pd.read_csv('Movies_TV.txt', delimiter='\\t')\n",
    "# print(corpus.iloc[0])\n",
    "X = corpus['Review']\n",
    "# print(X)\n",
    "Y = corpus['Label']"
   ]
  },
  {
   "cell_type": "code",
   "execution_count": 24,
   "id": "6bf95e63",
   "metadata": {},
   "outputs": [],
   "source": [
    "vec = TfidfVectorizer(max_df = 700, min_df = 4, ngram_range = (1,3), max_features = 200)\n",
    "X = vec.fit_transform(X)\n",
    "X = X.toarray()"
   ]
  },
  {
   "cell_type": "code",
   "execution_count": 25,
   "id": "5d347418",
   "metadata": {},
   "outputs": [],
   "source": [
    "X_train, X_test, y_train, y_test = train_test_split(X,Y,test_size = 0.33, random_state=42)"
   ]
  },
  {
   "cell_type": "code",
   "execution_count": 26,
   "id": "9ad111d7",
   "metadata": {},
   "outputs": [],
   "source": [
    "lc = SGDClassifier()\n",
    "nbc = GaussianNB()\n",
    "dtc = DecisionTreeClassifier()\n",
    "knnc = KNeighborsClassifier()"
   ]
  },
  {
   "cell_type": "code",
   "execution_count": 27,
   "id": "c2928cff",
   "metadata": {},
   "outputs": [
    {
     "data": {
      "text/plain": [
       "KNeighborsClassifier()"
      ]
     },
     "execution_count": 27,
     "metadata": {},
     "output_type": "execute_result"
    }
   ],
   "source": [
    "lc.fit(X_train, y_train)\n",
    "nbc.fit(X_train, y_train)\n",
    "dtc.fit(X_train, y_train)\n",
    "knnc.fit(X_train, y_train)"
   ]
  },
  {
   "cell_type": "code",
   "execution_count": 28,
   "id": "4a3b11f9",
   "metadata": {},
   "outputs": [],
   "source": [
    "pred_y_lc = lc.predict(X_test)\n",
    "pred_y_nbc = nbc.predict(X_test)\n",
    "pred_y_dtc = dtc.predict(X_test)\n",
    "pred_y_knnc = knnc.predict(X_test)"
   ]
  },
  {
   "cell_type": "code",
   "execution_count": 29,
   "id": "5449cab6",
   "metadata": {},
   "outputs": [],
   "source": [
    "lc_acc = accuracy_score(y_test, pred_y_lc)\n",
    "lc_prec = precision_score(y_test, pred_y_lc, average = 'macro')\n",
    "lc_recall = recall_score(y_test, pred_y_lc, average = 'macro')\n",
    "lc_f1 = f1_score(y_test, pred_y_lc, average='macro')"
   ]
  },
  {
   "cell_type": "code",
   "execution_count": 30,
   "id": "8727f1eb",
   "metadata": {},
   "outputs": [],
   "source": [
    "nbc_acc = accuracy_score(y_test, pred_y_nbc)\n",
    "nbc_prec = precision_score(y_test, pred_y_nbc, average = 'macro')\n",
    "nbc_recall = recall_score(y_test, pred_y_nbc, average = 'macro')\n",
    "nbc_f1 = f1_score(y_test, pred_y_nbc, average='macro')"
   ]
  },
  {
   "cell_type": "code",
   "execution_count": 31,
   "id": "c80bc28a",
   "metadata": {},
   "outputs": [],
   "source": [
    "dtc_acc = accuracy_score(y_test, pred_y_dtc)\n",
    "dtc_prec = precision_score(y_test, pred_y_dtc, average = 'macro')\n",
    "dtc_recall = recall_score(y_test, pred_y_dtc, average = 'macro')\n",
    "dtc_f1 = f1_score(y_test, pred_y_dtc, average='macro')"
   ]
  },
  {
   "cell_type": "code",
   "execution_count": 32,
   "id": "9523cf13",
   "metadata": {},
   "outputs": [],
   "source": [
    "knnc_acc = accuracy_score(y_test, pred_y_knnc)\n",
    "knnc_prec = precision_score(y_test, pred_y_knnc, average = 'macro')\n",
    "knnc_recall = recall_score(y_test, pred_y_knnc, average = 'macro')\n",
    "knnc_f1 = f1_score(y_test, pred_y_knnc, average='macro')"
   ]
  },
  {
   "cell_type": "code",
   "execution_count": 33,
   "id": "0a8a321c",
   "metadata": {},
   "outputs": [
    {
     "name": "stdout",
     "output_type": "stream",
     "text": [
      "Linear Classifier: \n",
      "Accuracy Score:  0.796969696969697 \n",
      "Precision Score: 0.43421909117126023 \n",
      "Recall Score: 0.4152047048726015 \n",
      "F1 Score: 0.41900983267207176 \n",
      "\n",
      "Naive Bayes Classifier: \n",
      "Accuracy Score:  0.5181818181818182 \n",
      "Precision Score: 0.4063599798893917 \n",
      "Recall Score: 0.47277804473376434 \n",
      "F1 Score: 0.37456673756116937 \n",
      "\n",
      "Decision Tree Classifier: \n",
      "Accuracy Score:  0.7757575757575758 \n",
      "Precision Score: 0.47652819993245527 \n",
      "Recall Score: 0.4545016334684231 \n",
      "F1 Score: 0.46301139310596184 \n",
      "\n",
      "KNN Classifier: \n",
      "Accuracy Score:  0.796969696969697 \n",
      "Precision Score: 0.4772869674185463 \n",
      "Recall Score: 0.3885947336131838 \n",
      "F1 Score: 0.39220604775217716 \n",
      "\n"
     ]
    }
   ],
   "source": [
    "print(\"Linear Classifier: \\nAccuracy Score: \", lc_acc, '\\nPrecision Score:', lc_prec, '\\nRecall Score:', lc_recall, '\\nF1 Score:', lc_f1,'\\n')\n",
    "print(\"Naive Bayes Classifier: \\nAccuracy Score: \", nbc_acc, '\\nPrecision Score:', nbc_prec, '\\nRecall Score:', nbc_recall, '\\nF1 Score:', nbc_f1,'\\n')\n",
    "print(\"Decision Tree Classifier: \\nAccuracy Score: \", dtc_acc, '\\nPrecision Score:', dtc_prec, '\\nRecall Score:', dtc_recall, '\\nF1 Score:', dtc_f1,'\\n')\n",
    "print(\"KNN Classifier: \\nAccuracy Score: \", knnc_acc, '\\nPrecision Score:', knnc_prec, '\\nRecall Score:', knnc_recall, '\\nF1 Score:', knnc_f1,'\\n')"
   ]
  },
  {
   "cell_type": "code",
   "execution_count": null,
   "id": "3cdaf176",
   "metadata": {},
   "outputs": [],
   "source": []
  }
 ],
 "metadata": {
  "kernelspec": {
   "display_name": "Python 3",
   "language": "python",
   "name": "python3"
  },
  "language_info": {
   "codemirror_mode": {
    "name": "ipython",
    "version": 3
   },
   "file_extension": ".py",
   "mimetype": "text/x-python",
   "name": "python",
   "nbconvert_exporter": "python",
   "pygments_lexer": "ipython3",
   "version": "3.8.8"
  }
 },
 "nbformat": 4,
 "nbformat_minor": 5
}
