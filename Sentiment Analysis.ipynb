{
 "cells": [
  {
   "cell_type": "code",
   "execution_count": 6,
   "id": "3f3df8cb",
   "metadata": {},
   "outputs": [],
   "source": [
    "from nltk.corpus import wordnet as wnet\n",
    "import nltk"
   ]
  },
  {
   "cell_type": "code",
   "execution_count": 8,
   "id": "191abef4",
   "metadata": {},
   "outputs": [
    {
     "name": "stderr",
     "output_type": "stream",
     "text": [
      "[nltk_data] Downloading package wordnet to\n",
      "[nltk_data]     C:\\Users\\nauma\\AppData\\Roaming\\nltk_data...\n",
      "[nltk_data]   Unzipping corpora\\wordnet.zip.\n"
     ]
    },
    {
     "data": {
      "text/plain": [
       "True"
      ]
     },
     "execution_count": 8,
     "metadata": {},
     "output_type": "execute_result"
    }
   ],
   "source": [
    "nltk.download('wordnet')"
   ]
  },
  {
   "cell_type": "code",
   "execution_count": 9,
   "id": "e73f0593",
   "metadata": {},
   "outputs": [
    {
     "name": "stderr",
     "output_type": "stream",
     "text": [
      "[nltk_data] Downloading package stopwords to\n",
      "[nltk_data]     C:\\Users\\nauma\\AppData\\Roaming\\nltk_data...\n",
      "[nltk_data]   Unzipping corpora\\stopwords.zip.\n"
     ]
    },
    {
     "data": {
      "text/plain": [
       "True"
      ]
     },
     "execution_count": 9,
     "metadata": {},
     "output_type": "execute_result"
    }
   ],
   "source": [
    "nltk.download('stopwords')"
   ]
  },
  {
   "cell_type": "code",
   "execution_count": 20,
   "id": "d6b822d9",
   "metadata": {},
   "outputs": [],
   "source": [
    "chair=wnet.synsets('chair')[4]"
   ]
  },
  {
   "cell_type": "code",
   "execution_count": 31,
   "id": "ae720580",
   "metadata": {},
   "outputs": [],
   "source": [
    "good=wnet.synsets('good')[0]\n",
    "bad=wnet.synsets('bad')[0]"
   ]
  },
  {
   "cell_type": "code",
   "execution_count": 33,
   "id": "aea69e1d",
   "metadata": {},
   "outputs": [
    {
     "data": {
      "text/plain": [
       "(Synset('good.n.01'), Synset('bad.n.01'))"
      ]
     },
     "execution_count": 33,
     "metadata": {},
     "output_type": "execute_result"
    }
   ],
   "source": [
    "good,bad"
   ]
  },
  {
   "cell_type": "code",
   "execution_count": 21,
   "id": "0072f15b",
   "metadata": {},
   "outputs": [
    {
     "data": {
      "text/plain": [
       "Synset('chair.n.05')"
      ]
     },
     "execution_count": 21,
     "metadata": {},
     "output_type": "execute_result"
    }
   ],
   "source": [
    "chair"
   ]
  },
  {
   "cell_type": "code",
   "execution_count": 22,
   "id": "68289c42",
   "metadata": {},
   "outputs": [
    {
     "data": {
      "text/plain": [
       "'a particular seat in an orchestra'"
      ]
     },
     "execution_count": 22,
     "metadata": {},
     "output_type": "execute_result"
    }
   ],
   "source": [
    "chair.definition()"
   ]
  },
  {
   "cell_type": "code",
   "execution_count": 23,
   "id": "0a597d54",
   "metadata": {},
   "outputs": [
    {
     "data": {
      "text/plain": [
       "['he is second chair violin']"
      ]
     },
     "execution_count": 23,
     "metadata": {},
     "output_type": "execute_result"
    }
   ],
   "source": [
    "chair.examples()"
   ]
  },
  {
   "cell_type": "code",
   "execution_count": 25,
   "id": "54a941fb",
   "metadata": {},
   "outputs": [
    {
     "data": {
      "text/plain": [
       "[Synset('seat.n.04')]"
      ]
     },
     "execution_count": 25,
     "metadata": {},
     "output_type": "execute_result"
    }
   ],
   "source": [
    "chair.hypernyms() #generalize form\n"
   ]
  },
  {
   "cell_type": "code",
   "execution_count": 37,
   "id": "4023cf44",
   "metadata": {},
   "outputs": [
    {
     "data": {
      "text/plain": [
       "Synset('chair.n.05')"
      ]
     },
     "execution_count": 37,
     "metadata": {},
     "output_type": "execute_result"
    }
   ],
   "source": [
    "chair"
   ]
  },
  {
   "cell_type": "code",
   "execution_count": 38,
   "id": "bd1171f1",
   "metadata": {},
   "outputs": [
    {
     "data": {
      "text/plain": [
       "0.07142857142857142"
      ]
     },
     "execution_count": 38,
     "metadata": {},
     "output_type": "execute_result"
    }
   ],
   "source": [
    "wnet.path_similarity(chair,bad) # tells the similarity btw the given words"
   ]
  },
  {
   "cell_type": "code",
   "execution_count": 50,
   "id": "49a41bdb",
   "metadata": {},
   "outputs": [],
   "source": [
    "review=\"the chair that I have recently purchased is very comfortable\"\n",
    "words=review.split(' ')"
   ]
  },
  {
   "cell_type": "code",
   "execution_count": 51,
   "id": "057eb366",
   "metadata": {},
   "outputs": [],
   "source": [
    "\n",
    "total_score=0\n",
    "for word in words:\n",
    "#     ssword=wnet.synsets(word)[0]\n",
    "    if len(wnet.synsets(word)) > 0:\n",
    "        ssword=wnet.synsets(word)[0]\n",
    "        \n",
    "        psore=wnet.wup_similarity(ssword,good)\n",
    "        nscore=wnet.wup_similarity(ssword,bad)\n",
    "        total_score+=pscore-nscore"
   ]
  },
  {
   "cell_type": "code",
   "execution_count": 52,
   "id": "986f65e0",
   "metadata": {},
   "outputs": [
    {
     "data": {
      "text/plain": [
       "-1.9555555555555557"
      ]
     },
     "execution_count": 52,
     "metadata": {},
     "output_type": "execute_result"
    }
   ],
   "source": [
    "total_score"
   ]
  },
  {
   "cell_type": "code",
   "execution_count": 70,
   "id": "fc80524b",
   "metadata": {},
   "outputs": [],
   "source": [
    "from nltk.corpus import sentiwordnet as swnet"
   ]
  },
  {
   "cell_type": "code",
   "execution_count": 71,
   "id": "23aa6b39",
   "metadata": {},
   "outputs": [
    {
     "name": "stderr",
     "output_type": "stream",
     "text": [
      "[nltk_data] Downloading package sentiwordnet to\n",
      "[nltk_data]     C:\\Users\\nauma\\AppData\\Roaming\\nltk_data...\n",
      "[nltk_data]   Package sentiwordnet is already up-to-date!\n"
     ]
    },
    {
     "data": {
      "text/plain": [
       "True"
      ]
     },
     "execution_count": 71,
     "metadata": {},
     "output_type": "execute_result"
    }
   ],
   "source": [
    "nltk.download('sentiwordnet')"
   ]
  },
  {
   "cell_type": "code",
   "execution_count": 72,
   "id": "705db440",
   "metadata": {},
   "outputs": [],
   "source": [
    "chair1=wnet.synsets('chair')[0]"
   ]
  },
  {
   "cell_type": "code",
   "execution_count": 73,
   "id": "5019a34c",
   "metadata": {},
   "outputs": [
    {
     "data": {
      "text/plain": [
       "'chair.n.01'"
      ]
     },
     "execution_count": 73,
     "metadata": {},
     "output_type": "execute_result"
    }
   ],
   "source": [
    "chair1.name()"
   ]
  },
  {
   "cell_type": "code",
   "execution_count": 91,
   "id": "1e4eb515",
   "metadata": {},
   "outputs": [
    {
     "ename": "AttributeError",
     "evalue": "'str' object has no attribute 'name'",
     "output_type": "error",
     "traceback": [
      "\u001b[1;31m---------------------------------------------------------------------------\u001b[0m",
      "\u001b[1;31mAttributeError\u001b[0m                            Traceback (most recent call last)",
      "\u001b[1;32m<ipython-input-91-6b6883e2606a>\u001b[0m in \u001b[0;36m<module>\u001b[1;34m\u001b[0m\n\u001b[0;32m      1\u001b[0m \u001b[0mtotal\u001b[0m\u001b[1;33m=\u001b[0m\u001b[1;36m0\u001b[0m\u001b[1;33m\u001b[0m\u001b[1;33m\u001b[0m\u001b[0m\n\u001b[0;32m      2\u001b[0m \u001b[1;32mfor\u001b[0m \u001b[0mword\u001b[0m \u001b[1;32min\u001b[0m \u001b[0mwords\u001b[0m\u001b[1;33m:\u001b[0m\u001b[1;33m\u001b[0m\u001b[1;33m\u001b[0m\u001b[0m\n\u001b[1;32m----> 3\u001b[1;33m     \u001b[1;32mif\u001b[0m \u001b[0mlen\u001b[0m\u001b[1;33m(\u001b[0m\u001b[0mlist\u001b[0m\u001b[1;33m(\u001b[0m\u001b[0mswnet\u001b[0m\u001b[1;33m.\u001b[0m\u001b[0msenti_synsets\u001b[0m\u001b[1;33m(\u001b[0m\u001b[0mword\u001b[0m\u001b[1;33m.\u001b[0m\u001b[0mname\u001b[0m\u001b[1;33m(\u001b[0m\u001b[1;33m)\u001b[0m\u001b[1;33m)\u001b[0m\u001b[1;33m)\u001b[0m\u001b[1;33m)\u001b[0m \u001b[1;33m>\u001b[0m\u001b[1;36m0\u001b[0m\u001b[1;33m:\u001b[0m\u001b[1;33m\u001b[0m\u001b[1;33m\u001b[0m\u001b[0m\n\u001b[0m\u001b[0;32m      4\u001b[0m         \u001b[0msenti_chair\u001b[0m\u001b[1;33m=\u001b[0m\u001b[0mswnet\u001b[0m\u001b[1;33m.\u001b[0m\u001b[0msenti_synsets\u001b[0m\u001b[1;33m(\u001b[0m\u001b[0mword\u001b[0m\u001b[1;33m.\u001b[0m\u001b[0mname\u001b[0m\u001b[1;33m(\u001b[0m\u001b[1;33m)\u001b[0m\u001b[1;33m)\u001b[0m\u001b[1;33m\u001b[0m\u001b[1;33m\u001b[0m\u001b[0m\n\u001b[0;32m      5\u001b[0m         \u001b[0mhappy0\u001b[0m \u001b[1;33m=\u001b[0m \u001b[0mlist\u001b[0m\u001b[1;33m(\u001b[0m\u001b[0msenti_chair\u001b[0m\u001b[1;33m)\u001b[0m\u001b[1;33m[\u001b[0m\u001b[1;36m0\u001b[0m\u001b[1;33m]\u001b[0m\u001b[1;33m\u001b[0m\u001b[1;33m\u001b[0m\u001b[0m\n",
      "\u001b[1;31mAttributeError\u001b[0m: 'str' object has no attribute 'name'"
     ]
    }
   ],
   "source": [
    "total=0\n",
    "for word in words:\n",
    "    if len(list(swnet.senti_synsets(word.name()))) >0:\n",
    "        senti_chair=swnet.senti_synsets(word.name())\n",
    "        happy0 = list(senti_chair)[0]\n",
    "        if happy0.pos_score() > happy0.neg_score():\n",
    "            total+=happy0.pos_score()\n",
    "        else:\n",
    "            total+=happy0.neg_score()"
   ]
  },
  {
   "cell_type": "code",
   "execution_count": 92,
   "id": "0228feeb",
   "metadata": {},
   "outputs": [
    {
     "data": {
      "text/plain": [
       "0"
      ]
     },
     "execution_count": 92,
     "metadata": {},
     "output_type": "execute_result"
    }
   ],
   "source": [
    "total"
   ]
  },
  {
   "cell_type": "code",
   "execution_count": 83,
   "id": "84a8749a",
   "metadata": {},
   "outputs": [
    {
     "data": {
      "text/plain": [
       "0.875"
      ]
     },
     "execution_count": 83,
     "metadata": {},
     "output_type": "execute_result"
    }
   ],
   "source": []
  },
  {
   "cell_type": "code",
   "execution_count": 84,
   "id": "98343c64",
   "metadata": {},
   "outputs": [
    {
     "data": {
      "text/plain": [
       "0.0"
      ]
     },
     "execution_count": 84,
     "metadata": {},
     "output_type": "execute_result"
    }
   ],
   "source": []
  },
  {
   "cell_type": "code",
   "execution_count": null,
   "id": "b1f24968",
   "metadata": {},
   "outputs": [],
   "source": []
  }
 ],
 "metadata": {
  "kernelspec": {
   "display_name": "Python 3",
   "language": "python",
   "name": "python3"
  },
  "language_info": {
   "codemirror_mode": {
    "name": "ipython",
    "version": 3
   },
   "file_extension": ".py",
   "mimetype": "text/x-python",
   "name": "python",
   "nbconvert_exporter": "python",
   "pygments_lexer": "ipython3",
   "version": "3.8.8"
  }
 },
 "nbformat": 4,
 "nbformat_minor": 5
}
